{
  "nbformat": 4,
  "nbformat_minor": 0,
  "metadata": {
    "colab": {
      "name": "2_1 데이터 분석을 위한 파이썬 속성 코스.ipynb",
      "provenance": [],
      "authorship_tag": "ABX9TyNxjiufeiwvpaesUAjjQ2Rr",
      "include_colab_link": true
    },
    "kernelspec": {
      "name": "python3",
      "display_name": "Python 3"
    }
  },
  "cells": [
    {
      "cell_type": "markdown",
      "metadata": {
        "id": "view-in-github",
        "colab_type": "text"
      },
      "source": [
        "<a href=\"https://colab.research.google.com/github/eklee0421/Data_Science/blob/master/2_1_python.ipynb\" target=\"_parent\"><img src=\"https://colab.research.google.com/assets/colab-badge.svg\" alt=\"Open In Colab\"/></a>"
      ]
    },
    {
      "cell_type": "markdown",
      "metadata": {
        "id": "-ngew_VDo4IN",
        "colab_type": "text"
      },
      "source": [
        "Zen of Python"
      ]
    },
    {
      "cell_type": "code",
      "metadata": {
        "id": "ZGfMjn1enD5s",
        "colab_type": "code",
        "colab": {
          "base_uri": "https://localhost:8080/",
          "height": 397
        },
        "outputId": "e1c65106-8bd7-4ed5-ffb1-fbcce20bb6cd"
      },
      "source": [
        "#Zen of Python\n",
        "\n",
        "import this"
      ],
      "execution_count": 1,
      "outputs": [
        {
          "output_type": "stream",
          "text": [
            "The Zen of Python, by Tim Peters\n",
            "\n",
            "Beautiful is better than ugly.\n",
            "Explicit is better than implicit.\n",
            "Simple is better than complex.\n",
            "Complex is better than complicated.\n",
            "Flat is better than nested.\n",
            "Sparse is better than dense.\n",
            "Readability counts.\n",
            "Special cases aren't special enough to break the rules.\n",
            "Although practicality beats purity.\n",
            "Errors should never pass silently.\n",
            "Unless explicitly silenced.\n",
            "In the face of ambiguity, refuse the temptation to guess.\n",
            "There should be one-- and preferably only one --obvious way to do it.\n",
            "Although that way may not be obvious at first unless you're Dutch.\n",
            "Now is better than never.\n",
            "Although never is often better than *right* now.\n",
            "If the implementation is hard to explain, it's a bad idea.\n",
            "If the implementation is easy to explain, it may be a good idea.\n",
            "Namespaces are one honking great idea -- let's do more of those!\n"
          ],
          "name": "stdout"
        }
      ]
    },
    {
      "cell_type": "markdown",
      "metadata": {
        "id": "rsXmpgaUo8FK",
        "colab_type": "text"
      },
      "source": [
        "boolean\n",
        "\n",
        "\n",
        "  - 파이썬에서는 명시적인 것이 암시적인 것보다 낫다라는 철학이 있습니다.\n",
        "\n",
        "  - True나 False는 0과 1로도 표현할 수 있으나 명시적으로 표현하기 위해 True와 False를 사용합니다."
      ]
    },
    {
      "cell_type": "code",
      "metadata": {
        "id": "gM-MNBaKoMOA",
        "colab_type": "code",
        "colab": {
          "base_uri": "https://localhost:8080/",
          "height": 35
        },
        "outputId": "222705ec-b68f-4014-af57-c70804777409"
      },
      "source": [
        "# 1. True를 출력해 보세요.\n",
        "True\n",
        "# 결과 : True"
      ],
      "execution_count": 2,
      "outputs": [
        {
          "output_type": "execute_result",
          "data": {
            "text/plain": [
              "True"
            ]
          },
          "metadata": {
            "tags": []
          },
          "execution_count": 2
        }
      ]
    },
    {
      "cell_type": "code",
      "metadata": {
        "id": "yV1_nRkAoMaM",
        "colab_type": "code",
        "colab": {
          "base_uri": "https://localhost:8080/",
          "height": 35
        },
        "outputId": "e5045731-f28a-4c42-d3f5-349a9fdd3b56"
      },
      "source": [
        "# 2. False를 출력해 보세요.\n",
        "False\n",
        "# 결과 : False"
      ],
      "execution_count": 3,
      "outputs": [
        {
          "output_type": "execute_result",
          "data": {
            "text/plain": [
              "False"
            ]
          },
          "metadata": {
            "tags": []
          },
          "execution_count": 3
        }
      ]
    },
    {
      "cell_type": "code",
      "metadata": {
        "id": "69evlsO7oMcU",
        "colab_type": "code",
        "colab": {
          "base_uri": "https://localhost:8080/",
          "height": 35
        },
        "outputId": "3c1058a0-270f-484c-8c60-4db780bf926a"
      },
      "source": [
        "# 3. True는 1과 같음을 표현해 보세요. 파이썬에서는 같음을 비교할 때 == 연산을 사용합니다.\n",
        "False == 0\n",
        "# 결과 : True"
      ],
      "execution_count": 4,
      "outputs": [
        {
          "output_type": "execute_result",
          "data": {
            "text/plain": [
              "True"
            ]
          },
          "metadata": {
            "tags": []
          },
          "execution_count": 4
        }
      ]
    },
    {
      "cell_type": "code",
      "metadata": {
        "id": "RuQnT4KkoMeo",
        "colab_type": "code",
        "colab": {
          "base_uri": "https://localhost:8080/",
          "height": 35
        },
        "outputId": "5d8c22fa-fa22-4ed0-a3db-f635af4d2a0c"
      },
      "source": [
        "# 4. 하지만 True는 문자 1과 다릅니다. 1을 따옴표로 감싸면 문자열이 됩니다.\n",
        "True == \"1\"\n",
        "# 결과 : False"
      ],
      "execution_count": 5,
      "outputs": [
        {
          "output_type": "execute_result",
          "data": {
            "text/plain": [
              "False"
            ]
          },
          "metadata": {
            "tags": []
          },
          "execution_count": 5
        }
      ]
    },
    {
      "cell_type": "code",
      "metadata": {
        "id": "ShRdKlFNoMg-",
        "colab_type": "code",
        "colab": {
          "base_uri": "https://localhost:8080/",
          "height": 35
        },
        "outputId": "08205b26-b726-4e07-9241-25ca5930de9e"
      },
      "source": [
        "# 5. 문자열 1과 True는 다릅니다.  - 숫자임에도 문자로 적혀있는 경우가 있으므로 주의해서 사용한다!!!\n",
        "True != \"1\"\n",
        "# 결과 : True"
      ],
      "execution_count": 6,
      "outputs": [
        {
          "output_type": "execute_result",
          "data": {
            "text/plain": [
              "True"
            ]
          },
          "metadata": {
            "tags": []
          },
          "execution_count": 6
        }
      ]
    },
    {
      "cell_type": "code",
      "metadata": {
        "id": "lW-kwVGFoMjh",
        "colab_type": "code",
        "colab": {
          "base_uri": "https://localhost:8080/",
          "height": 35
        },
        "outputId": "6c5c675e-b9de-46f9-f7ab-d2195e122fca"
      },
      "source": [
        "# 6. False도 마찬가지 입니다.\n",
        "False != \"0\"\n",
        "# 결과 : False"
      ],
      "execution_count": 7,
      "outputs": [
        {
          "output_type": "execute_result",
          "data": {
            "text/plain": [
              "True"
            ]
          },
          "metadata": {
            "tags": []
          },
          "execution_count": 7
        }
      ]
    },
    {
      "cell_type": "code",
      "metadata": {
        "id": "SBXFlejSoUGa",
        "colab_type": "code",
        "colab": {
          "base_uri": "https://localhost:8080/",
          "height": 35
        },
        "outputId": "4f8e1d72-c54f-4efe-9255-f861801348c4"
      },
      "source": [
        "# 7. False는 문자열 0과 다릅니다.\n",
        "False != \"0\"\n",
        "# 결과 : True"
      ],
      "execution_count": 8,
      "outputs": [
        {
          "output_type": "execute_result",
          "data": {
            "text/plain": [
              "True"
            ]
          },
          "metadata": {
            "tags": []
          },
          "execution_count": 8
        }
      ]
    },
    {
      "cell_type": "code",
      "metadata": {
        "id": "hsOhhEceoUIj",
        "colab_type": "code",
        "colab": {
          "base_uri": "https://localhost:8080/",
          "height": 35
        },
        "outputId": "1d1e96da-f603-4f6b-a530-eb4b7bdf06c0"
      },
      "source": [
        "# 8. and 연산으로 True 값 끼리 비교합니다.\n",
        "#     and는 모든 값이 True 일때만 True가 됩니다.\n",
        "True and True\n",
        "# 결과 : True"
      ],
      "execution_count": 9,
      "outputs": [
        {
          "output_type": "execute_result",
          "data": {
            "text/plain": [
              "True"
            ]
          },
          "metadata": {
            "tags": []
          },
          "execution_count": 9
        }
      ]
    },
    {
      "cell_type": "code",
      "metadata": {
        "id": "8YCBS95voWwc",
        "colab_type": "code",
        "colab": {
          "base_uri": "https://localhost:8080/",
          "height": 35
        },
        "outputId": "03ad51e5-0a01-441b-f0ec-c50ab0316419"
      },
      "source": [
        "# 9. and는 조건 중 하나라도 False라면 False가 됩니다.\n",
        "True and False\n",
        "# 결과 : False"
      ],
      "execution_count": 10,
      "outputs": [
        {
          "output_type": "execute_result",
          "data": {
            "text/plain": [
              "False"
            ]
          },
          "metadata": {
            "tags": []
          },
          "execution_count": 10
        }
      ]
    },
    {
      "cell_type": "code",
      "metadata": {
        "id": "PaIyF8HCoWyo",
        "colab_type": "code",
        "colab": {
          "base_uri": "https://localhost:8080/",
          "height": 35
        },
        "outputId": "48316490-db53-451b-c9b7-f3bd5d378abd"
      },
      "source": [
        "# 10. or은 하나만 True 라도 True가 됩니다.\n",
        "True or False\n",
        "# 결과 : True"
      ],
      "execution_count": 11,
      "outputs": [
        {
          "output_type": "execute_result",
          "data": {
            "text/plain": [
              "True"
            ]
          },
          "metadata": {
            "tags": []
          },
          "execution_count": 11
        }
      ]
    },
    {
      "cell_type": "markdown",
      "metadata": {
        "id": "tF8xUOfqpBvB",
        "colab_type": "text"
      },
      "source": [
        "Strings and List"
      ]
    },
    {
      "cell_type": "code",
      "metadata": {
        "id": "wqsne_XloghS",
        "colab_type": "code",
        "colab": {
          "base_uri": "https://localhost:8080/",
          "height": 35
        },
        "outputId": "4992c0fd-b217-41c4-d0c4-f03516448aae"
      },
      "source": [
        "# \"Hello World!\"를 출력해 봅니다.\n",
        "\"Hello World!\"\n",
        "# 결과 : 'Hello World!'"
      ],
      "execution_count": 12,
      "outputs": [
        {
          "output_type": "execute_result",
          "data": {
            "application/vnd.google.colaboratory.intrinsic+json": {
              "type": "string"
            },
            "text/plain": [
              "'Hello World!'"
            ]
          },
          "metadata": {
            "tags": []
          },
          "execution_count": 12
        }
      ]
    },
    {
      "cell_type": "code",
      "metadata": {
        "id": "_6Jyl73Wogvw",
        "colab_type": "code",
        "colab": {
          "base_uri": "https://localhost:8080/",
          "height": 35
        },
        "outputId": "876595d3-b54c-435a-f9b8-df4928200c86"
      },
      "source": [
        "# 주소 \"경기도 성남시 분당구\"를 출력해 봅니다.\n",
        "\"경기도 성남시 분당구\"\n",
        "# 결과 : '경기도 성남시 분당구'"
      ],
      "execution_count": 13,
      "outputs": [
        {
          "output_type": "execute_result",
          "data": {
            "application/vnd.google.colaboratory.intrinsic+json": {
              "type": "string"
            },
            "text/plain": [
              "'경기도 성남시 분당구'"
            ]
          },
          "metadata": {
            "tags": []
          },
          "execution_count": 13
        }
      ]
    },
    {
      "cell_type": "markdown",
      "metadata": {
        "id": "7CVtqBJQpDrq",
        "colab_type": "text"
      },
      "source": [
        "String"
      ]
    },
    {
      "cell_type": "code",
      "metadata": {
        "id": "9YAmdzcXox7S",
        "colab_type": "code",
        "colab": {
          "base_uri": "https://localhost:8080/",
          "height": 35
        },
        "outputId": "882bb8f6-03bf-481e-a1c6-d2be775b3e84"
      },
      "source": [
        "# til 이라는 변수에 문자열을 담아봅니다.\n",
        "til = \"Today I Learned\"\n",
        "til\n",
        "# 결과 : 'Today I Learned'"
      ],
      "execution_count": 14,
      "outputs": [
        {
          "output_type": "execute_result",
          "data": {
            "application/vnd.google.colaboratory.intrinsic+json": {
              "type": "string"
            },
            "text/plain": [
              "'Today I Learned'"
            ]
          },
          "metadata": {
            "tags": []
          },
          "execution_count": 14
        }
      ]
    },
    {
      "cell_type": "code",
      "metadata": {
        "id": "CdOIM8FwozFh",
        "colab_type": "code",
        "colab": {
          "base_uri": "https://localhost:8080/",
          "height": 35
        },
        "outputId": "e3b5cd94-b930-44fb-8a99-7dc4b12119af"
      },
      "source": [
        "# 모두 소문자로 만들어 보세요. - 데이터에 대소문자 섞여 있을 때 쉽게 찾기 위해서 이용\n",
        "til.lower()\n",
        "# 결과 : 'today i learned'"
      ],
      "execution_count": 15,
      "outputs": [
        {
          "output_type": "execute_result",
          "data": {
            "application/vnd.google.colaboratory.intrinsic+json": {
              "type": "string"
            },
            "text/plain": [
              "'today i learned'"
            ]
          },
          "metadata": {
            "tags": []
          },
          "execution_count": 15
        }
      ]
    },
    {
      "cell_type": "code",
      "metadata": {
        "id": "3vUGTNMEoz-S",
        "colab_type": "code",
        "colab": {
          "base_uri": "https://localhost:8080/",
          "height": 35
        },
        "outputId": "d449c744-2452-4baf-b3ee-ca0c7f4ee81f"
      },
      "source": [
        "# 모두 대문자로 만들어 보세요.\n",
        "til.upper()\n",
        "# 결과 : 'TODAY I LEARNED'"
      ],
      "execution_count": 16,
      "outputs": [
        {
          "output_type": "execute_result",
          "data": {
            "application/vnd.google.colaboratory.intrinsic+json": {
              "type": "string"
            },
            "text/plain": [
              "'TODAY I LEARNED'"
            ]
          },
          "metadata": {
            "tags": []
          },
          "execution_count": 16
        }
      ]
    },
    {
      "cell_type": "markdown",
      "metadata": {
        "id": "XhJq1DOjpFAp",
        "colab_type": "text"
      },
      "source": [
        "lists"
      ]
    },
    {
      "cell_type": "code",
      "metadata": {
        "id": "uAy4qT-kpFcr",
        "colab_type": "code",
        "colab": {
          "base_uri": "https://localhost:8080/",
          "height": 35
        },
        "outputId": "eb1c30c2-9531-40cc-e8c0-bdddab5960c6"
      },
      "source": [
        "# 비어있는 리스트를 만듭니다. lang이라는 변수에 담습니다.\n",
        "lang = []\n",
        "lang\n",
        "# 결과 : []"
      ],
      "execution_count": 17,
      "outputs": [
        {
          "output_type": "execute_result",
          "data": {
            "text/plain": [
              "[]"
            ]
          },
          "metadata": {
            "tags": []
          },
          "execution_count": 17
        }
      ]
    },
    {
      "cell_type": "code",
      "metadata": {
        "id": "oPww8OX7pJjg",
        "colab_type": "code",
        "colab": {
          "base_uri": "https://localhost:8080/",
          "height": 35
        },
        "outputId": "778ec25d-819b-47ce-b466-77cd1ca290bb"
      },
      "source": [
        "# python, java, c를 원소에 추가합니다.\n",
        "lang.append(\"python\")\n",
        "lang.append(\"java\")\n",
        "lang.append(\"c\")\n",
        "lang\n",
        "# 결과 : ['python', 'java', 'c']"
      ],
      "execution_count": 18,
      "outputs": [
        {
          "output_type": "execute_result",
          "data": {
            "text/plain": [
              "['python', 'java', 'c']"
            ]
          },
          "metadata": {
            "tags": []
          },
          "execution_count": 18
        }
      ]
    },
    {
      "cell_type": "code",
      "metadata": {
        "id": "2cs3MAhkpJl7",
        "colab_type": "code",
        "colab": {
          "base_uri": "https://localhost:8080/",
          "height": 35
        },
        "outputId": "6c1d0377-c917-4403-9224-3151ff5f4cb4"
      },
      "source": [
        "# lang이라는 변수에 담겨있는 언어명을 인덱싱을 통해 가져옵니다.\n",
        "lang[0]\n",
        "# 결과 : 'python'"
      ],
      "execution_count": 19,
      "outputs": [
        {
          "output_type": "execute_result",
          "data": {
            "application/vnd.google.colaboratory.intrinsic+json": {
              "type": "string"
            },
            "text/plain": [
              "'python'"
            ]
          },
          "metadata": {
            "tags": []
          },
          "execution_count": 19
        }
      ]
    },
    {
      "cell_type": "code",
      "metadata": {
        "id": "2aaxjxB8pJoH",
        "colab_type": "code",
        "colab": {
          "base_uri": "https://localhost:8080/",
          "height": 35
        },
        "outputId": "0a13353e-52e0-4339-8e15-431c788385b1"
      },
      "source": [
        "# 1번 인덱스를 가져옵니다.\n",
        "lang[1]\n",
        "# 결과 : 'java'"
      ],
      "execution_count": 20,
      "outputs": [
        {
          "output_type": "execute_result",
          "data": {
            "application/vnd.google.colaboratory.intrinsic+json": {
              "type": "string"
            },
            "text/plain": [
              "'java'"
            ]
          },
          "metadata": {
            "tags": []
          },
          "execution_count": 20
        }
      ]
    },
    {
      "cell_type": "code",
      "metadata": {
        "id": "pNj9iL8epX-r",
        "colab_type": "code",
        "colab": {
          "base_uri": "https://localhost:8080/",
          "height": 35
        },
        "outputId": "e0e61f6b-394b-43f8-d8c2-1892167493f2"
      },
      "source": [
        "# 마지막 인덱스를 가져옵니다.\n",
        "lang[-1]\n",
        "# 결과 : 'c'"
      ],
      "execution_count": 21,
      "outputs": [
        {
          "output_type": "execute_result",
          "data": {
            "application/vnd.google.colaboratory.intrinsic+json": {
              "type": "string"
            },
            "text/plain": [
              "'c'"
            ]
          },
          "metadata": {
            "tags": []
          },
          "execution_count": 21
        }
      ]
    },
    {
      "cell_type": "markdown",
      "metadata": {
        "id": "x_wZGTc_pbH5",
        "colab_type": "text"
      },
      "source": [
        "제어문(조건문, 반복문)"
      ]
    },
    {
      "cell_type": "code",
      "metadata": {
        "id": "5ut6_dmHpeWP",
        "colab_type": "code",
        "colab": {
          "base_uri": "https://localhost:8080/",
          "height": 71
        },
        "outputId": "d755b651-7657-4f35-d284-74927e408131"
      },
      "source": [
        "# 반복문을 통해 리스트의 원소를 하나씩 출력합니다.\n",
        "for i in lang:\n",
        "    print(i)\n",
        "# 결과 : python\n",
        "#           java\n",
        "#           c"
      ],
      "execution_count": 22,
      "outputs": [
        {
          "output_type": "stream",
          "text": [
            "python\n",
            "java\n",
            "c\n"
          ],
          "name": "stdout"
        }
      ]
    },
    {
      "cell_type": "code",
      "metadata": {
        "id": "ZeE2utqupja_",
        "colab_type": "code",
        "colab": {
          "base_uri": "https://localhost:8080/",
          "height": 71
        },
        "outputId": "155716de-7006-4199-855d-5e53f4c24ff2"
      },
      "source": [
        "# 위 코드에서 python일 때는 그대로 출력하고 나머지 텍스트는 \"기타\"라고 출력합니다.\n",
        "# 출력 결과가 아래의 순서로 나오도록 합니다.\n",
        "# python\n",
        "# 기타\n",
        "# 기타\n",
        "for i in lang:\n",
        "    if i == \"python\":\n",
        "        print(\"python\")\n",
        "    else:\n",
        "        print(\"기타\")\n",
        "# 결과 : python\n",
        "#           기타\n",
        "#           기타"
      ],
      "execution_count": 23,
      "outputs": [
        {
          "output_type": "stream",
          "text": [
            "python\n",
            "기타\n",
            "기타\n"
          ],
          "name": "stdout"
        }
      ]
    },
    {
      "cell_type": "code",
      "metadata": {
        "id": "G1P27Oc_peYo",
        "colab_type": "code",
        "colab": {
          "base_uri": "https://localhost:8080/",
          "height": 107
        },
        "outputId": "3c6ad474-3a57-400e-bbff-7c654ee2b9a8"
      },
      "source": [
        "# 특정 횟수만큼 반복문을 실행하도록 합니다.\n",
        "for i in range(5):\n",
        "    print(i)\n",
        "# 결과 : 0\n",
        "#           1\n",
        "#           2\n",
        "#           3\n",
        "#           4"
      ],
      "execution_count": 24,
      "outputs": [
        {
          "output_type": "stream",
          "text": [
            "0\n",
            "1\n",
            "2\n",
            "3\n",
            "4\n"
          ],
          "name": "stdout"
        }
      ]
    },
    {
      "cell_type": "code",
      "metadata": {
        "id": "xN_ebeFlpxHj",
        "colab_type": "code",
        "colab": {
          "base_uri": "https://localhost:8080/",
          "height": 180
        },
        "outputId": "a039f3c5-c543-401f-dbec-047f03a5e80d"
      },
      "source": [
        "# for문과 if문을 함께 사용해 봅니다.\n",
        "# 짝수일 때 python을 홀수일 때 java를 출력합니다.\n",
        "for i in range(1, 10):\n",
        "    if i % 2 == 0:\n",
        "        print(\"python\")\n",
        "    else:\n",
        "        print(\"java\")\n",
        "# 결과: java\n",
        "#          python\n",
        "#          java\n",
        "#          python\n",
        "#          java\n",
        "#          python\n",
        "#          java\n",
        "#          python\n",
        "#          java"
      ],
      "execution_count": 25,
      "outputs": [
        {
          "output_type": "stream",
          "text": [
            "java\n",
            "python\n",
            "java\n",
            "python\n",
            "java\n",
            "python\n",
            "java\n",
            "python\n",
            "java\n"
          ],
          "name": "stdout"
        }
      ]
    },
    {
      "cell_type": "code",
      "metadata": {
        "id": "X5JmPiUopzcj",
        "colab_type": "code",
        "colab": {
          "base_uri": "https://localhost:8080/",
          "height": 71
        },
        "outputId": "a6269d9b-bd82-4c09-fecb-fb693980a9f6"
      },
      "source": [
        "# enumerate를 사용하면 인덱스 번호와 원소를 같이 가져올 수 있습니다.\n",
        "for i, val in enumerate(lang):\n",
        "    print(i, val)\n",
        "#결과 : 0 pyhon\n",
        "#          1 java\n",
        "#          2 c"
      ],
      "execution_count": 26,
      "outputs": [
        {
          "output_type": "stream",
          "text": [
            "0 python\n",
            "1 java\n",
            "2 c\n"
          ],
          "name": "stdout"
        }
      ]
    },
    {
      "cell_type": "markdown",
      "metadata": {
        "id": "ZWPrk3_xp2MP",
        "colab_type": "text"
      },
      "source": [
        "문자열"
      ]
    },
    {
      "cell_type": "code",
      "metadata": {
        "id": "9t7tEl3Sp9OG",
        "colab_type": "code",
        "colab": {
          "base_uri": "https://localhost:8080/",
          "height": 35
        },
        "outputId": "4d026b05-39e0-4b44-9c68-ed2427f894ba"
      },
      "source": [
        "# 주소를 address 변수에 담습니다.\n",
        "address = \" 경기도 성남시 분당구 불정로 6 NAVER 그린팩토리 16층\"\n",
        "address\n",
        "# 결과 : '경기도 성남시 분당구 불정로 6 NAVER 그린팩토리 16층\""
      ],
      "execution_count": 27,
      "outputs": [
        {
          "output_type": "execute_result",
          "data": {
            "application/vnd.google.colaboratory.intrinsic+json": {
              "type": "string"
            },
            "text/plain": [
              "' 경기도 성남시 분당구 불정로 6 NAVER 그린팩토리 16층'"
            ]
          },
          "metadata": {
            "tags": []
          },
          "execution_count": 27
        }
      ]
    },
    {
      "cell_type": "code",
      "metadata": {
        "id": "w_yE1YjWp9V0",
        "colab_type": "code",
        "colab": {
          "base_uri": "https://localhost:8080/",
          "height": 35
        },
        "outputId": "51c25838-f1a8-41fc-b75d-71b95c0fa5d6"
      },
      "source": [
        "# 앞뒤 공백을 제거합니다.\n",
        "# 데이터 전처리 시 주로 사용합니다.\n",
        "address = address.strip()\n",
        "address\n",
        "# 결과 : '경기도 성남시 분당구 불정로 6 NAVER 그린팩토리 16층'"
      ],
      "execution_count": 28,
      "outputs": [
        {
          "output_type": "execute_result",
          "data": {
            "application/vnd.google.colaboratory.intrinsic+json": {
              "type": "string"
            },
            "text/plain": [
              "'경기도 성남시 분당구 불정로 6 NAVER 그린팩토리 16층'"
            ]
          },
          "metadata": {
            "tags": []
          },
          "execution_count": 28
        }
      ]
    },
    {
      "cell_type": "code",
      "metadata": {
        "id": "KENbnA5dp9YJ",
        "colab_type": "code",
        "colab": {
          "base_uri": "https://localhost:8080/",
          "height": 35
        },
        "outputId": "99e73077-c670-42d3-a881-ec02a83876fc"
      },
      "source": [
        "# 문자열의 길이\n",
        "len(address)\n",
        "# 결과 : 33"
      ],
      "execution_count": 29,
      "outputs": [
        {
          "output_type": "execute_result",
          "data": {
            "text/plain": [
              "33"
            ]
          },
          "metadata": {
            "tags": []
          },
          "execution_count": 29
        }
      ]
    },
    {
      "cell_type": "code",
      "metadata": {
        "id": "sW6EsKoFqBgR",
        "colab_type": "code",
        "colab": {
          "base_uri": "https://localhost:8080/",
          "height": 35
        },
        "outputId": "aa9760f9-7f97-482a-805a-8448f62c7199"
      },
      "source": [
        "# 공백으로 문자열 분리\n",
        "address_list = address.split()\n",
        "address_list\n",
        "# 결과 : ['경기도', '성남시', '분당구', '불정로', '6', 'NAVER', '그린팩토리', '16층']"
      ],
      "execution_count": 30,
      "outputs": [
        {
          "output_type": "execute_result",
          "data": {
            "text/plain": [
              "['경기도', '성남시', '분당구', '불정로', '6', 'NAVER', '그린팩토리', '16층']"
            ]
          },
          "metadata": {
            "tags": []
          },
          "execution_count": 30
        }
      ]
    },
    {
      "cell_type": "code",
      "metadata": {
        "id": "HAZDl0_gqChH",
        "colab_type": "code",
        "colab": {
          "base_uri": "https://localhost:8080/",
          "height": 35
        },
        "outputId": "5501d7c7-0776-4838-8cfa-f5e003956d22"
      },
      "source": [
        "# 리스트 길이\n",
        "len(address_list)\n",
        "# 결과 : 8"
      ],
      "execution_count": 31,
      "outputs": [
        {
          "output_type": "execute_result",
          "data": {
            "text/plain": [
              "8"
            ]
          },
          "metadata": {
            "tags": []
          },
          "execution_count": 31
        }
      ]
    },
    {
      "cell_type": "markdown",
      "metadata": {
        "id": "pMMIJ-6-HtDB",
        "colab_type": "text"
      },
      "source": [
        "슬라이싱, startswith, in을 통해 문자열에 경기가 있는지 확인하기"
      ]
    },
    {
      "cell_type": "code",
      "metadata": {
        "id": "zWx-e_TDHvYq",
        "colab_type": "code",
        "colab": {
          "base_uri": "https://localhost:8080/",
          "height": 35
        },
        "outputId": "81af5118-0a3b-4bdd-c08d-cf816b793713"
      },
      "source": [
        "# 슬라이싱으로 문자 가져오기\n",
        "address[:2]\n",
        "# 결과 : '경기'"
      ],
      "execution_count": 34,
      "outputs": [
        {
          "output_type": "execute_result",
          "data": {
            "application/vnd.google.colaboratory.intrinsic+json": {
              "type": "string"
            },
            "text/plain": [
              "'경기'"
            ]
          },
          "metadata": {
            "tags": []
          },
          "execution_count": 34
        }
      ]
    },
    {
      "cell_type": "code",
      "metadata": {
        "id": "cieqQJpwHvb8",
        "colab_type": "code",
        "colab": {
          "base_uri": "https://localhost:8080/",
          "height": 35
        },
        "outputId": "e289d37c-160e-42e9-ec4f-a8d89d501ace"
      },
      "source": [
        "# startswith를 사용하면 특정 문자가 포함되는지 여부를 확인할 수 있습니다.\n",
        "address.startswith(\"경기\")\n",
        "# 결과 : True"
      ],
      "execution_count": 35,
      "outputs": [
        {
          "output_type": "execute_result",
          "data": {
            "text/plain": [
              "True"
            ]
          },
          "metadata": {
            "tags": []
          },
          "execution_count": 35
        }
      ]
    },
    {
      "cell_type": "code",
      "metadata": {
        "id": "vWptMYn7HvfA",
        "colab_type": "code",
        "colab": {
          "base_uri": "https://localhost:8080/",
          "height": 35
        },
        "outputId": "6636d79d-5be1-4a7b-8e91-4722574c3e38"
      },
      "source": [
        "# in을 사용하게 되면 특정 문자열을 포함하고 있는지 여부를 확인할 수 있습니다.\n",
        "\"경기\" in address\n",
        "# 결과 : True"
      ],
      "execution_count": 36,
      "outputs": [
        {
          "output_type": "execute_result",
          "data": {
            "text/plain": [
              "True"
            ]
          },
          "metadata": {
            "tags": []
          },
          "execution_count": 36
        }
      ]
    },
    {
      "cell_type": "markdown",
      "metadata": {
        "id": "5IYKlYo3H0um",
        "colab_type": "text"
      },
      "source": [
        "리스트"
      ]
    },
    {
      "cell_type": "code",
      "metadata": {
        "id": "j6Fo8UtlH3ks",
        "colab_type": "code",
        "colab": {
          "base_uri": "https://localhost:8080/",
          "height": 35
        },
        "outputId": "91a91a46-cf5f-4aae-ff38-80c3fec5dfcc"
      },
      "source": [
        "# 인덱싱으로 리스트의 원소 가져오기 - 주소에서 구를 가져와 gu라는 변수에 담아보세요.\n",
        "gu = address_list[2]\n",
        "gu\n",
        "# 결과 : '분당구'"
      ],
      "execution_count": 37,
      "outputs": [
        {
          "output_type": "execute_result",
          "data": {
            "application/vnd.google.colaboratory.intrinsic+json": {
              "type": "string"
            },
            "text/plain": [
              "'분당구'"
            ]
          },
          "metadata": {
            "tags": []
          },
          "execution_count": 37
        }
      ]
    },
    {
      "cell_type": "code",
      "metadata": {
        "id": "Iou_2eenH3oD",
        "colab_type": "code",
        "colab": {
          "base_uri": "https://localhost:8080/",
          "height": 35
        },
        "outputId": "1fa4d422-b0f8-4e63-ae2e-2c0af07a1e3f"
      },
      "source": [
        "# 인덱싱으로 리스트의 원소 가져오기 - 주소에서 도로명을 가져와 street라는 변수에 담아보세요\n",
        "street = address_list[3]\n",
        "street\n",
        "# 결과 : '불정로'"
      ],
      "execution_count": 38,
      "outputs": [
        {
          "output_type": "execute_result",
          "data": {
            "application/vnd.google.colaboratory.intrinsic+json": {
              "type": "string"
            },
            "text/plain": [
              "'불정로'"
            ]
          },
          "metadata": {
            "tags": []
          },
          "execution_count": 38
        }
      ]
    },
    {
      "cell_type": "code",
      "metadata": {
        "id": "NKXeHvhuH3uW",
        "colab_type": "code",
        "colab": {
          "base_uri": "https://localhost:8080/",
          "height": 35
        },
        "outputId": "b7fffec8-f1f8-48dc-ab49-f33f711b636c"
      },
      "source": [
        "# 리스트의 마지막을 가져옵니다.\n",
        "address_list[-1]\n",
        "# 결과 : '16층'"
      ],
      "execution_count": 39,
      "outputs": [
        {
          "output_type": "execute_result",
          "data": {
            "application/vnd.google.colaboratory.intrinsic+json": {
              "type": "string"
            },
            "text/plain": [
              "'16층'"
            ]
          },
          "metadata": {
            "tags": []
          },
          "execution_count": 39
        }
      ]
    },
    {
      "cell_type": "code",
      "metadata": {
        "id": "pa2RHDP-H4n6",
        "colab_type": "code",
        "colab": {
          "base_uri": "https://localhost:8080/",
          "height": 35
        },
        "outputId": "26c89e24-a11a-4f54-ac47-c58ba4eb3d54"
      },
      "source": [
        "# \"  \".join(리스트)를 사용하면 리스트를 공백 문자열을 연결할 수 있습니다.\n",
        "# 리스트로 분리된 문자열을 다시 연결합니다.\n",
        "\" \".join(address_list)\n",
        "# 결과 : '경기도 성남시 분당구 불정로 6 NAVER 그린팩토리 16층'"
      ],
      "execution_count": 40,
      "outputs": [
        {
          "output_type": "execute_result",
          "data": {
            "application/vnd.google.colaboratory.intrinsic+json": {
              "type": "string"
            },
            "text/plain": [
              "'경기도 성남시 분당구 불정로 6 NAVER 그린팩토리 16층'"
            ]
          },
          "metadata": {
            "tags": []
          },
          "execution_count": 40
        }
      ]
    },
    {
      "cell_type": "code",
      "metadata": {
        "id": "k4Wf-hK_IBod",
        "colab_type": "code",
        "colab": {
          "base_uri": "https://localhost:8080/",
          "height": 35
        },
        "outputId": "c8f82845-b8ef-4be7-dd96-d7947eda244e"
      },
      "source": [
        "# in을 사용하게 되면 리스트에 해당 데이터를 포함하고 있는지 여부를 확인할 수 있습니다.\n",
        "# \"경기\"가 리스트에 포함되는지를 봅니다.\n",
        "\"경기\" in address_list\n",
        "# 결과 : False --> \"경기도\" 처럼 완전하게 적어야 True가 나옵니다."
      ],
      "execution_count": 41,
      "outputs": [
        {
          "output_type": "execute_result",
          "data": {
            "text/plain": [
              "False"
            ]
          },
          "metadata": {
            "tags": []
          },
          "execution_count": 41
        }
      ]
    },
    {
      "cell_type": "code",
      "metadata": {
        "id": "utydYXdZIBsE",
        "colab_type": "code",
        "colab": {
          "base_uri": "https://localhost:8080/",
          "height": 35
        },
        "outputId": "a2820739-16c5-4938-cb64-e5ca9f519bf3"
      },
      "source": [
        "# in을 사용하게 되면 리스트에 해당 데이터를 포함하고 있는지 여부를 확인할 수 있습니다.\n",
        "# \"분당구\"가 리스트에 포함되는지를 봅니다.\n",
        "\"분당구\" in address_list\n",
        "# 결과 : True"
      ],
      "execution_count": 42,
      "outputs": [
        {
          "output_type": "execute_result",
          "data": {
            "text/plain": [
              "True"
            ]
          },
          "metadata": {
            "tags": []
          },
          "execution_count": 42
        }
      ]
    }
  ]
}